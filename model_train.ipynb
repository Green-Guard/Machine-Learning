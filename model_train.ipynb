{
  "cells": [
    {
      "cell_type": "code",
      "execution_count": null,
      "metadata": {
        "colab": {
          "base_uri": "https://localhost:8080/"
        },
        "id": "YpSYam1R7Nwx",
        "outputId": "12efcec4-82ab-46d2-8b13-afb0dbfbaa90"
      },
      "outputs": [],
      "source": [
        "from google.colab import drive\n",
        "drive.mount('/content/drive')"
      ]
    },
    {
      "cell_type": "markdown",
      "metadata": {
        "id": "AuMDOMQ3PSJk"
      },
      "source": [
        "## Downloading Datasets"
      ]
    },
    {
      "cell_type": "code",
      "execution_count": null,
      "metadata": {
        "colab": {
          "base_uri": "https://localhost:8080/"
        },
        "id": "DMD0a7wGNwv6",
        "outputId": "2910a2d8-5ccc-406c-a970-0a07aef7a2a4"
      },
      "outputs": [],
      "source": [
        "!kaggle datasets download vipoooool/new-plant-diseases-dataset"
      ]
    },
    {
      "cell_type": "code",
      "execution_count": null,
      "metadata": {
        "colab": {
          "base_uri": "https://localhost:8080/"
        },
        "id": "4oOzXO3yOXwe",
        "outputId": "bccbad87-f863-4d3b-e26e-6f7eb7d12ba2"
      },
      "outputs": [],
      "source": [
        "!unzip new-plant-diseases-dataset.zip"
      ]
    },
    {
      "cell_type": "markdown",
      "metadata": {
        "id": "yabldT0vWe_R"
      },
      "source": [
        "## Model Building"
      ]
    },
    {
      "cell_type": "code",
      "execution_count": null,
      "metadata": {
        "id": "lHoqJx8I_-O1"
      },
      "outputs": [],
      "source": [
        "import tensorflow as tf\n",
        "from tensorflow.keras.layers import Conv2D,Dense\n",
        "from tensorflow.keras.models import Sequential\n",
        "import seaborn as sns\n",
        "import matplotlib.pyplot as plt\n",
        "import numpy as np"
      ]
    },
    {
      "cell_type": "code",
      "execution_count": null,
      "metadata": {
        "colab": {
          "base_uri": "https://localhost:8080/"
        },
        "id": "uEp90q3yA3qA",
        "outputId": "dd968898-1dc9-42af-f4ab-2f093d3fe324"
      },
      "outputs": [],
      "source": [
        "train_set = tf.keras.utils.image_dataset_from_directory(\n",
        "    '/content/New Plant Diseases Dataset(Augmented)/New Plant Diseases Dataset(Augmented)/train',\n",
        "    labels=\"inferred\",\n",
        "    label_mode=\"categorical\",\n",
        "    class_names=None,\n",
        "    color_mode=\"rgb\",\n",
        "    batch_size=50,\n",
        "    image_size=(128, 128),\n",
        "    shuffle=True,\n",
        "    seed=None,\n",
        "    validation_split=None,\n",
        "    subset=None,\n",
        "    interpolation=\"bilinear\",\n",
        "    follow_links=False,\n",
        "    crop_to_aspect_ratio=False,\n",
        ")"
      ]
    },
    {
      "cell_type": "code",
      "execution_count": null,
      "metadata": {
        "colab": {
          "base_uri": "https://localhost:8080/"
        },
        "id": "i2UUqA8BDD2v",
        "outputId": "56fbc2a3-cd8e-430c-f941-35be45a176f0"
      },
      "outputs": [],
      "source": [
        "val_set = tf.keras.utils.image_dataset_from_directory(\n",
        "    '/content/New Plant Diseases Dataset(Augmented)/New Plant Diseases Dataset(Augmented)/valid',\n",
        "    labels=\"inferred\",\n",
        "    label_mode=\"categorical\",\n",
        "    class_names=None,\n",
        "    color_mode=\"rgb\",\n",
        "    batch_size=50,\n",
        "    image_size=(128, 128),\n",
        "    shuffle=True,\n",
        "    seed=None,\n",
        "    validation_split=None,\n",
        "    subset=None,\n",
        "    interpolation=\"bilinear\",\n",
        "    follow_links=False,\n",
        "    crop_to_aspect_ratio=False,\n",
        ")"
      ]
    },
    {
      "cell_type": "markdown",
      "metadata": {
        "id": "b4t1aAJmXzWx"
      },
      "source": [
        "Untuk pembuatan _feature map_ agar model bisa mengenali banyak properti atau fitur dari gambar, disini digunakan beberapa Convolutional Layer"
      ]
    },
    {
      "cell_type": "code",
      "execution_count": null,
      "metadata": {
        "colab": {
          "base_uri": "https://localhost:8080/"
        },
        "id": "J8-G_l9cQXDB",
        "outputId": "aef254d2-46af-4eb0-e7f6-6df47cb11586"
      },
      "outputs": [],
      "source": [
        "model = Sequential([\n",
        "    tf.keras.layers.Conv2D(filters=64,kernel_size=3,padding='same',activation='relu',input_shape=[128,128,3]),\n",
        "    tf.keras.layers.Conv2D(filters=64,kernel_size=3,activation='relu'),\n",
        "    tf.keras.layers.MaxPool2D(pool_size=2,strides=2),\n",
        "    tf.keras.layers.Conv2D(filters=64,kernel_size=3,padding='same',activation='relu',input_shape=[128,128,3]),\n",
        "    tf.keras.layers.Conv2D(filters=64,kernel_size=3,activation='relu'),\n",
        "    tf.keras.layers.MaxPool2D(pool_size=2,strides=2),\n",
        "    tf.keras.layers.Conv2D(filters=128,kernel_size=3,padding='same',activation='relu',input_shape=[128,128,3]),\n",
        "    tf.keras.layers.Conv2D(filters=128,kernel_size=3,activation='relu'),\n",
        "    tf.keras.layers.MaxPool2D(pool_size=2,strides=2),\n",
        "    tf.keras.layers.Conv2D(filters=256,kernel_size=3,padding='same',activation='relu',input_shape=[128,128,3]),\n",
        "    tf.keras.layers.Conv2D(filters=256,kernel_size=3,activation='relu'),\n",
        "    tf.keras.layers.MaxPool2D(pool_size=2,strides=2),\n",
        "    tf.keras.layers.Flatten(),\n",
        "    tf.keras.layers.Dense(units=512,activation='relu'),\n",
        "    tf.keras.layers.Dropout(0.2),\n",
        "    tf.keras.layers.Dense(units=38,activation='softmax')\n",
        "])\n",
        "\n",
        "model.compile(\n",
        "    optimizer=tf.keras.optimizers.Adam(learning_rate=0.0001),\n",
        "    loss='categorical_crossentropy',\n",
        "    metrics=['accuracy']\n",
        "    )\n",
        "\n",
        "model.summary()"
      ]
    },
    {
      "cell_type": "code",
      "execution_count": null,
      "metadata": {
        "colab": {
          "base_uri": "https://localhost:8080/"
        },
        "id": "gjDlCaZJQjuy",
        "outputId": "d72117c8-4ab8-44b8-f8f4-9b403849ac26"
      },
      "outputs": [],
      "source": [
        "model_train = model.fit(x=train_set,\n",
        "                      validation_data=val_set,\n",
        "                      epochs=10,\n",
        "                      verbose=1\n",
        "                      )"
      ]
    },
    {
      "cell_type": "code",
      "execution_count": null,
      "metadata": {
        "id": "miP-3s_-VOxk"
      },
      "outputs": [],
      "source": [
        "train_loss, train_acc = model.evaluate(train_set)\n",
        "print('Training accuracy:', train_acc)"
      ]
    },
    {
      "cell_type": "code",
      "execution_count": null,
      "metadata": {
        "id": "mSM-V2WzVVt9"
      },
      "outputs": [],
      "source": [
        "val_loss, val_acc = model.evaluate(val_set)\n",
        "print('Validation accuracy: ', val_acc)"
      ]
    },
    {
      "cell_type": "code",
      "execution_count": null,
      "metadata": {
        "colab": {
          "base_uri": "https://localhost:8080/"
        },
        "id": "fXxNCAJ6nO7l",
        "outputId": "7760f98e-bd96-440c-ddfb-2a3269575c69"
      },
      "outputs": [],
      "source": [
        "print(model_train.history.keys())"
      ]
    },
    {
      "cell_type": "code",
      "execution_count": null,
      "metadata": {
        "id": "swtKfsb62nib"
      },
      "outputs": [],
      "source": [
        "plt.figure(figsize=(10, 6))\n",
        "plt.subplot(1, 2, 1)\n",
        "plt.plot(model_train.history['accuracy'], label='Training Accuracy')\n",
        "plt.plot(model_train.history['val_accuracy'], label='Validation Accuracy')\n",
        "plt.xlabel('Epoch')\n",
        "plt.ylabel('Accuracy')\n",
        "plt.legend()\n",
        "plt.title('Accuracy and Validation Accuracy')\n",
        "\n",
        "plt.show()"
      ]
    },
    {
      "cell_type": "code",
      "execution_count": null,
      "metadata": {
        "id": "CDdCZz6l3yG3"
      },
      "outputs": [],
      "source": [
        "plt.figure(figsize=(10, 6))\n",
        "\n",
        "# Subplot for accuracy\n",
        "plt.subplot(1, 2, 1)\n",
        "plt.plot(model_train.history['loss'], label='Training Accuracy')\n",
        "plt.plot(model_train.history['val_loss'], label='Validation Accuracy')\n",
        "plt.xlabel('Epoch')\n",
        "plt.ylabel('Accuracy')\n",
        "plt.legend()\n",
        "plt.title('Accuracy and Validation Accuracy')\n",
        "\n",
        "# Show the plot\n",
        "plt.show()"
      ]
    },
    {
      "cell_type": "code",
      "execution_count": null,
      "metadata": {
        "id": "ggnLWO1UcrIo"
      },
      "outputs": [],
      "source": [
        "model.save('/content/drive/model_train.h5')"
      ]
    },
    {
      "cell_type": "code",
      "execution_count": null,
      "metadata": {
        "id": "-t6cZNSoS6St"
      },
      "outputs": [],
      "source": [
        "# Saving model weight and architecture into json format\n",
        "model_json = model.to_json(model.json)"
      ]
    },
    {
      "cell_type": "code",
      "execution_count": null,
      "metadata": {
        "colab": {
          "base_uri": "https://localhost:8080/"
        },
        "id": "FAYX1pwTfqsl",
        "outputId": "864dcb6e-4f6e-4d40-c5b7-e281f16d55fe"
      },
      "outputs": [],
      "source": [
        "import os\n",
        "target_directory = \"/content/drive/Shareddrives/C241-PS537/Machine Learning\"\n",
        "json_file_path = os.path.join(target_directory, \"model.json\")\n",
        "\n",
        "with open(json_file_path, \"w\") as json_file:\n",
        "    json_file.write(model_json)\n",
        "\n",
        "print(f\"Saved model architecture to {json_file_path}\")"
      ]
    },
    {
      "cell_type": "code",
      "execution_count": null,
      "metadata": {
        "id": "XDRdBnuCgd7g"
      },
      "outputs": [],
      "source": []
    }
  ],
  "metadata": {
    "accelerator": "GPU",
    "colab": {
      "gpuType": "T4",
      "machine_shape": "hm",
      "provenance": []
    },
    "kernelspec": {
      "display_name": "Python 3",
      "name": "python3"
    },
    "language_info": {
      "name": "python"
    }
  },
  "nbformat": 4,
  "nbformat_minor": 0
}
